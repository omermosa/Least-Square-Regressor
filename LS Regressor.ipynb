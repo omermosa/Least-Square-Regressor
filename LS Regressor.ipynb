{
  "nbformat": 4,
  "nbformat_minor": 0,
  "metadata": {
    "colab": {
      "name": "PMDL A1 part 2.ipynb",
      "provenance": [],
      "collapsed_sections": [],
      "toc_visible": true
    },
    "kernelspec": {
      "name": "python3",
      "display_name": "Python 3"
    }
  },
  "cells": [
    {
      "cell_type": "markdown",
      "metadata": {
        "id": "9ssayvYYecNO"
      },
      "source": [
        "#LS Regressor"
      ]
    },
    {
      "cell_type": "code",
      "metadata": {
        "id": "mDIHhpX0e0L1",
        "outputId": "20e89547-d9b0-4750-8236-dc0aadb86f4c",
        "colab": {
          "base_uri": "https://localhost:8080/",
          "height": 34
        }
      },
      "source": [
        "%cd /content/drive/My Drive/PMDL/A1/Part2"
      ],
      "execution_count": 1,
      "outputs": [
        {
          "output_type": "stream",
          "text": [
            "/content/drive/My Drive/PMDL/A1/Part2\n"
          ],
          "name": "stdout"
        }
      ]
    },
    {
      "cell_type": "code",
      "metadata": {
        "id": "ZJi6UstkdjX6",
        "outputId": "1f26492b-71d2-45a1-e147-ecf5df1bd05f",
        "colab": {
          "base_uri": "https://localhost:8080/",
          "height": 212
        }
      },
      "source": [
        "!wget http://archive.ics.uci.edu/ml/machine-learning-databases/00294/CCPP.zip"
      ],
      "execution_count": 2,
      "outputs": [
        {
          "output_type": "stream",
          "text": [
            "--2020-10-03 16:07:59--  http://archive.ics.uci.edu/ml/machine-learning-databases/00294/CCPP.zip\n",
            "Resolving archive.ics.uci.edu (archive.ics.uci.edu)... 128.195.10.252\n",
            "Connecting to archive.ics.uci.edu (archive.ics.uci.edu)|128.195.10.252|:80... connected.\n",
            "HTTP request sent, awaiting response... 200 OK\n",
            "Length: 3674852 (3.5M) [application/x-httpd-php]\n",
            "Saving to: ‘CCPP.zip.1’\n",
            "\n",
            "CCPP.zip.1          100%[===================>]   3.50M  5.88MB/s    in 0.6s    \n",
            "\n",
            "2020-10-03 16:07:59 (5.88 MB/s) - ‘CCPP.zip.1’ saved [3674852/3674852]\n",
            "\n"
          ],
          "name": "stdout"
        }
      ]
    },
    {
      "cell_type": "code",
      "metadata": {
        "id": "RVyL9PkcelVv",
        "outputId": "bc804cb9-fd18-4489-9bb2-f33021eef023",
        "colab": {
          "base_uri": "https://localhost:8080/",
          "height": 87
        }
      },
      "source": [
        "!unzip /content/drive/My\\ Drive/PMDL/A1/Part2/CCPP.zip"
      ],
      "execution_count": 3,
      "outputs": [
        {
          "output_type": "stream",
          "text": [
            "Archive:  /content/drive/My Drive/PMDL/A1/Part2/CCPP.zip\n",
            "replace CCPP/Folds5x2_pp.ods? [y]es, [n]o, [A]ll, [N]one, [r]ename: n\n",
            "N\n",
            "replace CCPP/Folds5x2_pp.xlsx? [y]es, [n]o, [A]ll, [N]one, [r]ename: "
          ],
          "name": "stdout"
        }
      ]
    },
    {
      "cell_type": "code",
      "metadata": {
        "id": "c3X33OT-VUr9"
      },
      "source": [
        "# Import libraries\n",
        "import numpy as np\n",
        "import pandas as pd\n",
        "import itertools #easy way to generate combinations from a list of indices\n",
        "import matplotlib.pyplot as plt\n"
      ],
      "execution_count": 4,
      "outputs": []
    },
    {
      "cell_type": "code",
      "metadata": {
        "id": "AEsWlcyAoskP"
      },
      "source": [
        ""
      ],
      "execution_count": 4,
      "outputs": []
    },
    {
      "cell_type": "markdown",
      "metadata": {
        "id": "SG25p9GRos_7"
      },
      "source": [
        "##Load Data"
      ]
    },
    {
      "cell_type": "code",
      "metadata": {
        "id": "YrC9ArKFovQM"
      },
      "source": [
        "#load first sheet only as we need on version of the dataset\n",
        "xls = pd.ExcelFile('/content/drive/My Drive/PMDL/A1/Part2/CCPP/Folds5x2_pp.xlsx')\n",
        "df = pd.read_excel(xls, 'Sheet1')\n"
      ],
      "execution_count": 5,
      "outputs": []
    },
    {
      "cell_type": "code",
      "metadata": {
        "id": "P_JikQSnpjGv",
        "outputId": "465dbf46-08cb-4c71-cb93-44421755dbdd",
        "colab": {
          "base_uri": "https://localhost:8080/",
          "height": 34
        }
      },
      "source": [
        "data=df.values\n",
        "names=df.columns\n",
        "X=data[:,:-1]\n",
        "y=data[:,-1]\n",
        "#makes sure of the shapes\n",
        "print(X.shape,y.shape,names)"
      ],
      "execution_count": 111,
      "outputs": [
        {
          "output_type": "stream",
          "text": [
            "(9568, 4) (9568,) Index(['AT', 'V', 'AP', 'RH', 'PE'], dtype='object')\n"
          ],
          "name": "stdout"
        }
      ]
    },
    {
      "cell_type": "code",
      "metadata": {
        "id": "gU6BMxyMcXQE"
      },
      "source": [
        "#normalize data to be between 0 and 1 (using X=(X-X_min)/ (X_min-X_max))\n",
        "X=(X-np.min(X,axis=0))/(np.max(X,axis=0)-np.min(X,axis=0))\n",
        "y=((y-np.min(y))/(np.max(y)-np.min(y))).reshape(-1,1)"
      ],
      "execution_count": 112,
      "outputs": []
    },
    {
      "cell_type": "code",
      "metadata": {
        "id": "tv0QHhGiYEok",
        "outputId": "f3102718-f7cd-4740-bd08-30c6a37956c6",
        "colab": {
          "base_uri": "https://localhost:8080/",
          "height": 141
        }
      },
      "source": [
        "X"
      ],
      "execution_count": 113,
      "outputs": [
        {
          "output_type": "execute_result",
          "data": {
            "text/plain": [
              "array([[0.37252125, 0.29181495, 0.77159119, 0.63820375],\n",
              "       [0.66203966, 0.66903915, 0.6718634 , 0.44932976],\n",
              "       [0.09348442, 0.24982206, 0.47686216, 0.8924933 ],\n",
              "       ...,\n",
              "       [0.83597734, 0.87135231, 0.49566939, 0.1463807 ],\n",
              "       [0.64220963, 0.78451957, 0.51893096, 0.49369973],\n",
              "       [0.56062323, 0.66120996, 0.60232616, 0.56715818]])"
            ]
          },
          "metadata": {
            "tags": []
          },
          "execution_count": 113
        }
      ]
    },
    {
      "cell_type": "markdown",
      "metadata": {
        "id": "MM3YcZtJTKRw"
      },
      "source": [
        "##LS Regrossor Class"
      ]
    },
    {
      "cell_type": "code",
      "metadata": {
        "id": "xxgJfZONfMGl"
      },
      "source": [
        "class LS_Regrossor():\n",
        "  def __init__(self):\n",
        "    pass\n",
        "\n",
        "  def poly_features(self,X,m): #generate polynomial features when X has more than 1 feature\n",
        "    ss=[]\n",
        "    N=X.shape[0]\n",
        "    S=list(range(len(X[0,:]))) # get the indicies of the columns\n",
        "  \n",
        "    for j in range(2,m+1): #iterate from degree 2 to degree m\n",
        "      for s in itertools.combinations_with_replacement(S, j): #get all possible subsets of length j \n",
        "        ss.append(list(s)) \n",
        "    Xn=X.copy()\n",
        "    for s in ss: #iterate over the generated indices, getting the powers and appending to the X matrix\n",
        "      V=np.ones((N,1))\n",
        "     \n",
        "      for j in s:\n",
        "       \n",
        "        V*=X[:,j].reshape(-1,1)\n",
        "      Xn=np.append(Xn,V,axis=1) # append the colum to X\n",
        "    return Xn\n",
        "      \n",
        "    \n",
        "\n",
        "  def generate_features(self,X,m=1):\n",
        "    \n",
        "    N=X.shape[0]\n",
        "    d=X.shape[1]\n",
        "    if d==1:\n",
        "      Xn=np.c_[ np.ones(N),X ]  # add column of ones\n",
        "      if m==1:\n",
        "        return Xn \n",
        "      else:\n",
        "        for i in range(2,m+1):\n",
        "          Xn=np.append(Xn,X**i,axis=1) #append the powers of the feature to X\n",
        "        return Xn\n",
        "    else:\n",
        "      if m==1:\n",
        "        return np.c_[ np.ones(N),X ] \n",
        "      else:\n",
        "        Xn=self.poly_features(X,m)\n",
        "        return np.c_[ np.ones(N),Xn ]  #add columns of ones\n",
        "\n",
        "\n",
        "\n",
        "\n",
        "  def train(self,X,Y,m=1):\n",
        "    self.m=m\n",
        "    Xn=self.generate_features(X,m) #get features at the polynomial degree m\n",
        "    w=np.dot(np.dot(np.linalg.inv(np.dot(Xn.T,Xn)),Xn.T),Y) #using the normal equation\n",
        "    self.w=w\n",
        "    return w\n",
        "  \n",
        "  def predict(self,X):\n",
        "    Xn=self.generate_features(X,self.m)\n",
        "    y_pred=np.dot(Xn,self.w)\n",
        "    return y_pred\n",
        "  \n",
        "  def compute_loss(self,ypred,ytrue): #return error\n",
        "    N=ypred.shape[0]\n",
        "    loss=np.sqrt(np.sum((ypred-ytrue)**2)/N) # E RMS loss\n",
        "    return loss\n",
        "\n",
        "\n",
        "\n",
        "\n"
      ],
      "execution_count": 9,
      "outputs": []
    },
    {
      "cell_type": "code",
      "metadata": {
        "id": "DkZ7U1RfkGBa"
      },
      "source": [
        ""
      ],
      "execution_count": 9,
      "outputs": []
    },
    {
      "cell_type": "markdown",
      "metadata": {
        "id": "0UoY7SbVrZ1q"
      },
      "source": [
        "##K_fold validation\n"
      ]
    },
    {
      "cell_type": "code",
      "metadata": {
        "id": "N3MpLZlgjFGc"
      },
      "source": [
        "def K_folds(Xt,yt,n_folds=5,many_ms=False):\n",
        "  #try diffrent polynomial degree m if many_ms is true\n",
        "  if many_ms:\n",
        "    ms=list(range(1,11)) # try ms from 1 to 10\n",
        "  else:\n",
        "    ms=[1]\n",
        "    \n",
        "  errors_val=[]\n",
        "  errors_train=[]\n",
        " \n",
        "  groups=np.array(list(range(n_folds)))\n",
        "  Xs=np.array(np.array_split(Xt,n_folds))\n",
        "  ys=np.array(np.array_split(yt,n_folds))\n",
        "  for m in ms: #try all ms ro k-folds\n",
        "    loss_val=[]\n",
        "    loss_train=[]\n",
        "   \n",
        "    for i in range(n_folds):\n",
        "      train_groups=groups !=i\n",
        "      val_groups=groups==i\n",
        "      Xtr=(np.array(np.concatenate(Xs[train_groups])))\n",
        "      Xval=(Xs[val_groups])\n",
        "      Ytr=np.array(np.concatenate(ys[train_groups]))\n",
        "      Yval=ys[val_groups]\n",
        "\n",
        "      reg=LS_Regrossor()\n",
        "      ws=reg.train(Xtr,Ytr,m)\n",
        "      yp=reg.predict(Xval[0])\n",
        "\n",
        "      ls=reg.compute_loss(yp,Yval[0])\n",
        "\n",
        "      loss_val.append(ls)\n",
        "      ypt=reg.predict(Xtr)\n",
        "      ls_tr=reg.compute_loss(ypt,Ytr)\n",
        "      loss_train.append(ls_tr)\n",
        "\n",
        "\n",
        "    errors_val.append(np.mean(loss_val))\n",
        "    errors_train.append(np.mean(loss_train))\n",
        "\n",
        "  return errors_train,errors_val,ms  \n",
        "        \n"
      ],
      "execution_count": 123,
      "outputs": []
    },
    {
      "cell_type": "markdown",
      "metadata": {
        "id": "F95jdUhAulM-"
      },
      "source": [
        "###Try different m values on Vaccum feature\n"
      ]
    },
    {
      "cell_type": "code",
      "metadata": {
        "id": "3ym6Y40OkdGu"
      },
      "source": [
        "# feature names: ['AT', 'V', 'AP', 'RH', 'PE'],\n",
        "Xtrain=X[:,1].reshape(-1,1)\n",
        "errors_tr_V,errors_val_V,ms=K_folds(Xtrain,y.reshape(-1,1),many_ms=True)"
      ],
      "execution_count": 114,
      "outputs": []
    },
    {
      "cell_type": "code",
      "metadata": {
        "id": "KI45mqAwmEdD",
        "outputId": "91abf0c5-6bf8-42ef-9c2b-9ff0f65b9584",
        "colab": {
          "base_uri": "https://localhost:8080/",
          "height": 34
        }
      },
      "source": [
        "print(\"min validation loss\", np.min(errors_val_V), \"it happens at m = \", np.argmin(errors_val_V)+1)"
      ],
      "execution_count": 115,
      "outputs": [
        {
          "output_type": "stream",
          "text": [
            "min validation loss 0.10265497950512477 it happens at m =  9\n"
          ],
          "name": "stdout"
        }
      ]
    },
    {
      "cell_type": "code",
      "metadata": {
        "id": "E21AlR_tuwfR",
        "outputId": "d1768acd-8fc7-4a2d-c859-527c73635b9e",
        "colab": {
          "base_uri": "https://localhost:8080/",
          "height": 294
        }
      },
      "source": [
        "\n",
        "import matplotlib.pyplot as plt\n",
        "plt.plot(ms,errors_val_V)\n",
        "plt.plot(ms,errors_tr_V)\n",
        "\n",
        "plt.scatter(ms,errors_val_V)\n",
        "plt.scatter(ms,errors_tr_V)\n",
        "plt.axvline(x=np.argmin(errors_val_V)+1)\n",
        "plt.legend((\"Errors_val\",\"Errors_train\"),)\n",
        "plt.title(\"E_rms for V feature\")\n",
        "plt.xlabel(\"Polynomial degree\")\n",
        "plt.ylabel(\"Error\")\n",
        "plt.show() #clearly the best degree polnomial is m= 9 (drew a vetrical line at it)\n",
        "#note that val and train errors seems to overlap because the difference between them is small"
      ],
      "execution_count": 116,
      "outputs": [
        {
          "output_type": "display_data",
          "data": {
            "image/png": "[encoded data removed]",
            "text/plain": [
              "<Figure size 432x288 with 1 Axes>"
            ]
          },
          "metadata": {
            "tags": [],
            "needs_background": "light"
          }
        }
      ]
    },
    {
      "cell_type": "code",
      "metadata": {
        "id": "iF0TDcgPR7OK",
        "outputId": "07c9d7b5-e55c-4719-9cf5-6a8751859702",
        "colab": {
          "base_uri": "https://localhost:8080/",
          "height": 294
        }
      },
      "source": [
        "#zoom into the first 8 values of m\n",
        "plt.plot(ms[:9],errors_val_V[:9])\n",
        "plt.plot(ms[:9],errors_tr_V[:9])\n",
        "#plt.plot(ms,errors_sk)\n",
        "#plt.plot(ms,errors_skt)\n",
        "\n",
        "plt.scatter(ms[:9],errors_val_V[:9])\n",
        "plt.scatter(ms[:9],errors_tr_V[:9])\n",
        "plt.axvline(x=np.argmin(errors_val_V)+1)\n",
        "plt.legend((\"Errors_val\",\"Errors_train\"),)\n",
        "plt.title(\"E_rms for V feature\")\n",
        "plt.xlabel(\"Polynomial degree\")\n",
        "plt.ylabel(\"Error\")\n",
        "plt.show()"
      ],
      "execution_count": 117,
      "outputs": [
        {
          "output_type": "display_data",
          "data": {
            "image/png": "[encoded data removed]",
            "text/plain": [
              "<Figure size 432x288 with 1 Axes>"
            ]
          },
          "metadata": {
            "tags": [],
            "needs_background": "light"
          }
        }
      ]
    },
    {
      "cell_type": "code",
      "metadata": {
        "id": "n7D5F1Ukuwmh"
      },
      "source": [
        ""
      ],
      "execution_count": 13,
      "outputs": []
    },
    {
      "cell_type": "markdown",
      "metadata": {
        "id": "Aq5YG3nS9Kjf"
      },
      "source": [
        "###Try Linear Reg on feature combinations"
      ]
    },
    {
      "cell_type": "code",
      "metadata": {
        "id": "1n0y9yNi9QXQ"
      },
      "source": [
        "def get_subsets(S):\n",
        "  subsets=[]\n",
        "  for j in range(1,len(S)+1):\n",
        "      for ss in itertools.combinations(S, j):\n",
        "          subsets.append(list(ss))\n",
        "  return subsets"
      ],
      "execution_count": 118,
      "outputs": []
    },
    {
      "cell_type": "code",
      "metadata": {
        "id": "XjCPTRGgAnQx"
      },
      "source": [
        "#get subsets and run K folds on them\n",
        "subsets=get_subsets([0,1,2,3]) # get combinations of the features (0 being the 1st feature ,etc)\n",
        "Ers_tr=[]\n",
        "Ers_val=[]\n",
        "for s in subsets:\n",
        "  Xtrain2=X[:,s]\n",
        "  ert,erv,_=K_folds(Xtrain2,y)\n",
        "  Ers_tr.append(ert)\n",
        "  Ers_val.append(erv)\n",
        "\n"
      ],
      "execution_count": 119,
      "outputs": []
    },
    {
      "cell_type": "code",
      "metadata": {
        "id": "NnSgBD1BCHHm",
        "outputId": "7960eff3-09a8-442e-9bf2-7c9dc541497f",
        "colab": {
          "base_uri": "https://localhost:8080/",
          "height": 294
        }
      },
      "source": [
        "subset_number=list(range(1,16))\n",
        "plt.plot(subset_number,Ers_tr)\n",
        "plt.plot(subset_number,Ers_val)\n",
        "plt.scatter(subset_number,Ers_tr)\n",
        "plt.scatter(subset_number,Ers_val)\n",
        "plt.axvline(x=np.argmin(Ers_val)+1) # the vertical line represents the number of the best subset\n",
        "\n",
        "plt.legend((\"Errors_val\",\"Errors_train\"),)\n",
        "\n",
        "plt.title(\"E_rms for subsets of feature\")\n",
        "plt.xlabel(\"Subset number (Combination)\")\n",
        "plt.ylabel(\"Error\")\n",
        "\n",
        "plt.show() #note that val and train errors seems to overlap because the difference between them is small"
      ],
      "execution_count": 120,
      "outputs": [
        {
          "output_type": "display_data",
          "data": {
            "image/png": "[encoded data removed]",
            "text/plain": [
              "<Figure size 432x288 with 1 Axes>"
            ]
          },
          "metadata": {
            "tags": [],
            "needs_background": "light"
          }
        }
      ]
    },
    {
      "cell_type": "code",
      "metadata": {
        "id": "wWKha-rkGXTK",
        "outputId": "1d97656c-c4a8-4b77-c545-9068524d36c7",
        "colab": {
          "base_uri": "https://localhost:8080/",
          "height": 52
        }
      },
      "source": [
        "# print the best combinations of features\n",
        "feature_names= ['AT', 'V', 'AP', 'RH', 'PE']\n",
        "min_index=np.argmin(Ers_val)\n",
        "print(\"best combination: \" ,subsets[min_index])\n",
        "\n",
        "bst_feat=[]\n",
        "for s in subsets[min_index]:\n",
        "  bst_feat.append(feature_names[s])\n",
        "\n",
        "print(\"best Combination of Features\",bst_feat) # using all features yeild to the best retuls (least error)"
      ],
      "execution_count": 121,
      "outputs": [
        {
          "output_type": "stream",
          "text": [
            "best combination:  [0, 1, 2, 3]\n",
            "best Combination of Features ['AT', 'V', 'AP', 'RH']\n"
          ],
          "name": "stdout"
        }
      ]
    },
    {
      "cell_type": "code",
      "metadata": {
        "id": "QxjADz-sGX5z"
      },
      "source": [
        ""
      ],
      "execution_count": 17,
      "outputs": []
    },
    {
      "cell_type": "markdown",
      "metadata": {
        "id": "1ttZjtKDe1Mn"
      },
      "source": [
        "###Try all features against the degree of the polynomial"
      ]
    },
    {
      "cell_type": "code",
      "metadata": {
        "id": "e0XYUGaIe6i7"
      },
      "source": [
        "errors_tr,errors_val,ms=K_folds(X,y.reshape(-1,1),many_ms=True)"
      ],
      "execution_count": 124,
      "outputs": []
    },
    {
      "cell_type": "code",
      "metadata": {
        "id": "Lk0euuPLVSAk",
        "outputId": "f2f7dd62-d0ac-45a2-c4bd-56c454e0b2bf",
        "colab": {
          "base_uri": "https://localhost:8080/",
          "height": 372
        }
      },
      "source": [
        "errors_tr, errors_val\n"
      ],
      "execution_count": 126,
      "outputs": [
        {
          "output_type": "execute_result",
          "data": {
            "text/plain": [
              "([0.06035412966640894,\n",
              "  0.05634251861953574,\n",
              "  0.05493878865493511,\n",
              "  0.05398756543035268,\n",
              "  0.05246396999547441,\n",
              "  0.05151787205522177,\n",
              "  0.05536890477949141,\n",
              "  1.2955789174747616,\n",
              "  55.765018752722995,\n",
              "  15.463886763615974],\n",
              " [0.06038686117126466,\n",
              "  0.05644754856721992,\n",
              "  0.055132131041593924,\n",
              "  0.05447258436930617,\n",
              "  0.053475957320177715,\n",
              "  0.053260449015908026,\n",
              "  0.05922404193510254,\n",
              "  1.2993695834148344,\n",
              "  54.225739468909964,\n",
              "  15.592128265313468])"
            ]
          },
          "metadata": {
            "tags": []
          },
          "execution_count": 126
        }
      ]
    },
    {
      "cell_type": "code",
      "metadata": {
        "id": "VEgtAS6rlw2-",
        "outputId": "02c2da45-1580-4403-9a4e-fec7c811696f",
        "colab": {
          "base_uri": "https://localhost:8080/",
          "height": 34
        }
      },
      "source": [
        "print(\"min validation loss\", np.min(errors_val), \"it happens at m = \", np.argmin(errors_val)+1)"
      ],
      "execution_count": 127,
      "outputs": [
        {
          "output_type": "stream",
          "text": [
            "min validation loss 0.053260449015908026 it happens at m =  6\n"
          ],
          "name": "stdout"
        }
      ]
    },
    {
      "cell_type": "code",
      "metadata": {
        "id": "F6GOVtwlj5W4",
        "outputId": "3c9569c1-06cc-4c54-8aaa-5f32a49ccb16",
        "colab": {
          "base_uri": "https://localhost:8080/",
          "height": 294
        }
      },
      "source": [
        "plt.plot(ms,errors_val)\n",
        "plt.plot(ms,errors_tr)\n",
        "\n",
        "plt.scatter(ms,errors_val)\n",
        "plt.scatter(ms,errors_tr)\n",
        "plt.axvline(x=np.argmin(errors_val)+1)\n",
        "plt.legend((\"Errors_val\",\"Errors_train\"),)\n",
        "plt.title(\"E_rms for all feature\")\n",
        "plt.xlabel(\"Polynomial degree\")\n",
        "plt.ylabel(\"Error\")\n",
        "plt.show() #clearly the best degree polnomial is m=2 (drew a vetrical line at it)\n",
        "#note that val and train errors seems to overlap because the difference between them is small\n",
        "#the conclusion here is that using all features with low m (m=2) yeilds the lowest error value"
      ],
      "execution_count": 128,
      "outputs": [
        {
          "output_type": "display_data",
          "data": {
            "image/png": "[encoded data removed]",
            "text/plain": [
              "<Figure size 432x288 with 1 Axes>"
            ]
          },
          "metadata": {
            "tags": [],
            "needs_background": "light"
          }
        }
      ]
    },
    {
      "cell_type": "code",
      "metadata": {
        "id": "q3cYdkntQlqr",
        "outputId": "00ac32b4-e739-4ef4-b765-e09222c451b4",
        "colab": {
          "base_uri": "https://localhost:8080/",
          "height": 294
        }
      },
      "source": [
        "## Zoom into the first 7 m values\n",
        "plt.plot(ms[:7],errors_val[:7])\n",
        "plt.plot(ms[:7],errors_tr[:7])\n",
        "\n",
        "plt.scatter(ms[:7],errors_val[:7])\n",
        "plt.scatter(ms[:7],errors_tr[:7])\n",
        "plt.axvline(x=np.argmin(errors_val)+1)\n",
        "plt.legend((\"Errors_val\",\"Errors_train\"),)\n",
        "plt.title(\"E_rms for all feature\")\n",
        "plt.xlabel(\"Polynomial degree\")\n",
        "plt.ylabel(\"Error\")\n",
        "plt.show() #clearly the best degree polnomial is m=6 (drew a vetrical line at it)\n",
        "#note that val and train errors seems to overlap because the difference between them is small\n",
        "# the values of the loss are small for small values of m but they explode after about m=8"
      ],
      "execution_count": 131,
      "outputs": [
        {
          "output_type": "display_data",
          "data": {
            "image/png": "[encoded data removed]",
            "text/plain": [
              "<Figure size 432x288 with 1 Axes>"
            ]
          },
          "metadata": {
            "tags": [],
            "needs_background": "light"
          }
        }
      ]
    },
    {
      "cell_type": "code",
      "metadata": {
        "id": "ejOpM5hUoVr4"
      },
      "source": [
        "## Conclusions\n",
        "# after m=8 , the loss increases significantly especially in part 4, because of the normal equation\n",
        "# using all featuers yeild the best values for the loss\n",
        "# using all features with low m (m=6) yeilds the lowest error value (0.008), but after that the error value increases"
      ],
      "execution_count": 21,
      "outputs": []
    },
    {
      "cell_type": "markdown",
      "metadata": {
        "id": "Af4AShUmoCpE"
      },
      "source": [
        "#####the conclusion here is that using all features with low m (m=2) yeilds the lowest error value"
      ]
    },
    {
      "cell_type": "code",
      "metadata": {
        "id": "y3i5Gvy4e6gn"
      },
      "source": [
        ""
      ],
      "execution_count": 21,
      "outputs": []
    },
    {
      "cell_type": "code",
      "metadata": {
        "id": "kX5eb3rZe6eQ"
      },
      "source": [
        ""
      ],
      "execution_count": 21,
      "outputs": []
    },
    {
      "cell_type": "code",
      "metadata": {
        "id": "3HAhcanxuwdO"
      },
      "source": [
        "def compute_loss(ypred,ytrue): #return error\n",
        "    N=ypred.shape[0]\n",
        "    loss=np.sqrt(np.sum((ypred-ytrue)**2)/N)\n",
        "    return loss"
      ],
      "execution_count": 22,
      "outputs": []
    },
    {
      "cell_type": "code",
      "metadata": {
        "id": "saUwmw3b9QTk"
      },
      "source": [
        ""
      ],
      "execution_count": 22,
      "outputs": []
    },
    {
      "cell_type": "code",
      "metadata": {
        "id": "aN6BxJkT9QQX"
      },
      "source": [
        "from sklearn.preprocessing import PolynomialFeatures"
      ],
      "execution_count": 140,
      "outputs": []
    },
    {
      "cell_type": "code",
      "metadata": {
        "id": "mWPO7CvCFg9s"
      },
      "source": [
        "pf=PolynomialFeatures(degree=2)\n",
        "Xn=pf.fit_transform(X)"
      ],
      "execution_count": 148,
      "outputs": []
    },
    {
      "cell_type": "code",
      "metadata": {
        "id": "7_VyNbNpFpar",
        "outputId": "a717c41b-36c8-4ebb-8b66-0a7d04799490",
        "colab": {
          "base_uri": "https://localhost:8080/",
          "height": 34
        }
      },
      "source": [
        "Xn[0].shape"
      ],
      "execution_count": 149,
      "outputs": [
        {
          "output_type": "execute_result",
          "data": {
            "text/plain": [
              "(15,)"
            ]
          },
          "metadata": {
            "tags": []
          },
          "execution_count": 149
        }
      ]
    },
    {
      "cell_type": "code",
      "metadata": {
        "id": "xi6_OARPFqNl"
      },
      "source": [
        "from sklearn.linear_model import LinearRegression\n",
        "reg=LinearRegression().fit(Xn,y)"
      ],
      "execution_count": 64,
      "outputs": []
    },
    {
      "cell_type": "code",
      "metadata": {
        "id": "0i-52faWH4cg"
      },
      "source": [
        "list(itertools.combinations_with_replacement([0,1,2,3],3))"
      ],
      "execution_count": null,
      "outputs": []
    },
    {
      "cell_type": "code",
      "metadata": {
        "id": "eflbOwzoVZw1"
      },
      "source": [
        "reg=LS_Regrossor()\n"
      ],
      "execution_count": 68,
      "outputs": []
    },
    {
      "cell_type": "code",
      "metadata": {
        "id": "0_vA8rQ6YSTU"
      },
      "source": [
        "reg2=LinearRegression()"
      ],
      "execution_count": 65,
      "outputs": []
    },
    {
      "cell_type": "code",
      "metadata": {
        "id": "syjIZZtjYAjo",
        "outputId": "2c457671-9532-4097-c312-2372728f8457",
        "colab": {
          "base_uri": "https://localhost:8080/",
          "height": 158
        }
      },
      "source": [
        "for m in range(2,10):\n",
        "  ws=reg.train(X,y,m)\n",
        "  yp=reg.predict(X)\n",
        "  pf=PolynomialFeatures(degree=m)\n",
        "  Xn=pf.fit_transform(X) \n",
        "  reg2.fit(X,y)\n",
        "  yp2=reg2.predict(X)\n",
        "  print(yp.mean()-yp2.mean()) \n",
        "\n"
      ],
      "execution_count": 110,
      "outputs": [
        {
          "output_type": "stream",
          "text": [
            "1.659783421814609e-14\n",
            "6.29958585296464e-12\n",
            "-8.95349863694328e-10\n",
            "-6.948932082528891e-09\n",
            "-5.572315348117973e-06\n",
            "-0.0002712669272685181\n",
            "17.057882534138326\n",
            "2.442711045422784\n"
          ],
          "name": "stdout"
        }
      ]
    },
    {
      "cell_type": "code",
      "metadata": {
        "id": "MWuFBsYxYbpj",
        "outputId": "f9cb1927-65d6-48f4-f678-212f44abc30c",
        "colab": {
          "base_uri": "https://localhost:8080/",
          "height": 34
        }
      },
      "source": [
        "import itertools\n",
        "print (list(itertools.combinations_with_replacement([0,1,2,3], 2)))"
      ],
      "execution_count": 152,
      "outputs": [
        {
          "output_type": "stream",
          "text": [
            "[(0, 0), (0, 1), (0, 2), (0, 3), (1, 1), (1, 2), (1, 3), (2, 2), (2, 3), (3, 3)]\n"
          ],
          "name": "stdout"
        }
      ]
    },
    {
      "cell_type": "code",
      "metadata": {
        "id": "tMi6BlF1_zYj"
      },
      "source": [
        ""
      ],
      "execution_count": null,
      "outputs": []
    }
  ]
}